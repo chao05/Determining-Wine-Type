{
 "cells": [
  {
   "cell_type": "code",
   "execution_count": 1,
   "metadata": {},
   "outputs": [],
   "source": [
    "import pandas as pd\n",
    "import numpy as np\n",
    "from scipy.io import arff\n",
    "from scipy.stats import iqr\n",
    "\n",
    "import os\n",
    "import math\n",
    "\n",
    "import matplotlib.pyplot as plt\n",
    "import matplotlib.colors as mcolors\n",
    "import seaborn as sns\n",
    "\n",
    "import datetime\n",
    "import calendar\n",
    "\n",
    "from numpy import mean\n",
    "from numpy import std\n",
    "\n",
    "from sklearn.preprocessing import normalize\n",
    "from sklearn.preprocessing import scale\n",
    "from sklearn.feature_selection import f_regression\n",
    "from sklearn.feature_selection import f_classif\n",
    "from sklearn.feature_selection import mutual_info_classif\n",
    "from sklearn.feature_selection import mutual_info_regression\n",
    "from sklearn.feature_selection import RFE\n",
    "from sklearn.discriminant_analysis import LinearDiscriminantAnalysis\n",
    "from sklearn.decomposition import PCA\n",
    "from sklearn.neighbors import KNeighborsClassifier\n",
    "from sklearn.svm import SVC\n",
    "from sklearn.linear_model import LogisticRegression\n",
    "from sklearn.tree import DecisionTreeClassifier\n",
    "from sklearn.ensemble import RandomForestClassifier\n",
    "from sklearn.model_selection import cross_val_score\n",
    "from sklearn.model_selection import learning_curve\n",
    "\n",
    "import joblib"
   ]
  },
  {
   "cell_type": "code",
   "execution_count": 2,
   "metadata": {
    "scrolled": false
   },
   "outputs": [
    {
     "name": "stdout",
     "output_type": "stream",
     "text": [
      "(178, 14)\n"
     ]
    },
    {
     "data": {
      "text/html": [
       "<div>\n",
       "<style scoped>\n",
       "    .dataframe tbody tr th:only-of-type {\n",
       "        vertical-align: middle;\n",
       "    }\n",
       "\n",
       "    .dataframe tbody tr th {\n",
       "        vertical-align: top;\n",
       "    }\n",
       "\n",
       "    .dataframe thead th {\n",
       "        text-align: right;\n",
       "    }\n",
       "</style>\n",
       "<table border=\"1\" class=\"dataframe\">\n",
       "  <thead>\n",
       "    <tr style=\"text-align: right;\">\n",
       "      <th></th>\n",
       "      <th>Class</th>\n",
       "      <th>Alcohol</th>\n",
       "      <th>Acid</th>\n",
       "      <th>Ash</th>\n",
       "      <th>Alcalinity</th>\n",
       "      <th>Magnesium</th>\n",
       "      <th>TotPhenols</th>\n",
       "      <th>Flavanoids</th>\n",
       "      <th>NonflavPhenols</th>\n",
       "      <th>Proanth</th>\n",
       "      <th>ColIntensity</th>\n",
       "      <th>Hue</th>\n",
       "      <th>OD</th>\n",
       "      <th>Proline</th>\n",
       "    </tr>\n",
       "  </thead>\n",
       "  <tbody>\n",
       "    <tr>\n",
       "      <th>0</th>\n",
       "      <td>1</td>\n",
       "      <td>14.23</td>\n",
       "      <td>1.71</td>\n",
       "      <td>2.43</td>\n",
       "      <td>15.6</td>\n",
       "      <td>127</td>\n",
       "      <td>2.80</td>\n",
       "      <td>3.06</td>\n",
       "      <td>0.28</td>\n",
       "      <td>2.29</td>\n",
       "      <td>5.64</td>\n",
       "      <td>1.04</td>\n",
       "      <td>3.92</td>\n",
       "      <td>1065</td>\n",
       "    </tr>\n",
       "    <tr>\n",
       "      <th>1</th>\n",
       "      <td>1</td>\n",
       "      <td>13.20</td>\n",
       "      <td>1.78</td>\n",
       "      <td>2.14</td>\n",
       "      <td>11.2</td>\n",
       "      <td>100</td>\n",
       "      <td>2.65</td>\n",
       "      <td>2.76</td>\n",
       "      <td>0.26</td>\n",
       "      <td>1.28</td>\n",
       "      <td>4.38</td>\n",
       "      <td>1.05</td>\n",
       "      <td>3.40</td>\n",
       "      <td>1050</td>\n",
       "    </tr>\n",
       "  </tbody>\n",
       "</table>\n",
       "</div>"
      ],
      "text/plain": [
       "   Class  Alcohol  Acid   Ash  Alcalinity  Magnesium  TotPhenols  Flavanoids  \\\n",
       "0      1    14.23  1.71  2.43        15.6        127        2.80        3.06   \n",
       "1      1    13.20  1.78  2.14        11.2        100        2.65        2.76   \n",
       "\n",
       "   NonflavPhenols  Proanth  ColIntensity   Hue    OD  Proline  \n",
       "0            0.28     2.29          5.64  1.04  3.92     1065  \n",
       "1            0.26     1.28          4.38  1.05  3.40     1050  "
      ]
     },
     "execution_count": 2,
     "metadata": {},
     "output_type": "execute_result"
    }
   ],
   "source": [
    "names = ['Class', 'Alcohol', 'Acid', 'Ash', 'Alcalinity', 'Magnesium', \n",
    "         'TotPhenols', 'Flavanoids', 'NonflavPhenols', 'Proanth', 'ColIntensity', \n",
    "         'Hue', 'OD', 'Proline']\n",
    "wine = pd.read_csv('wine.data',header = None, names = names)\n",
    "print(wine.shape)\n",
    "wine.head(2)"
   ]
  },
  {
   "cell_type": "code",
   "execution_count": 3,
   "metadata": {},
   "outputs": [
    {
     "name": "stdout",
     "output_type": "stream",
     "text": [
      "Class \n",
      " [1 2 3] \n",
      "\n",
      "Alcohol \n",
      " [11.03 11.41 11.45 11.46 11.56 11.61 11.62 11.64 11.65 11.66 11.76 11.79\n",
      " 11.81 11.82 11.84 11.87 11.96 12.   12.04 12.07 12.08 12.16 12.17 12.2\n",
      " 12.21 12.22 12.25 12.29 12.33 12.34 12.36 12.37 12.42 12.43 12.45 12.47\n",
      " 12.51 12.52 12.53 12.58 12.6  12.64 12.67 12.69 12.7  12.72 12.77 12.79\n",
      " 12.81 12.82 12.84 12.85 12.86 12.87 12.88 12.93 12.96 12.99 13.03 13.05\n",
      " 13.07 13.08 13.11 13.16 13.17 13.2  13.23 13.24 13.27 13.28 13.29 13.3\n",
      " 13.32 13.34 13.36 13.39 13.4  13.41 13.45 13.48 13.49 13.5  13.51 13.52\n",
      " 13.56 13.58 13.62 13.63 13.64 13.67 13.68 13.69 13.71 13.72 13.73 13.74\n",
      " 13.75 13.76 13.77 13.78 13.82 13.83 13.84 13.86 13.87 13.88 13.9  13.94\n",
      " 14.02 14.06 14.1  14.12 14.13 14.16 14.19 14.2  14.21 14.22 14.23 14.3\n",
      " 14.34 14.37 14.38 14.39 14.75 14.83] \n",
      "\n",
      "Acid \n",
      " [0.74 0.89 0.9  0.92 0.94 0.98 0.99 1.01 1.07 1.09 1.1  1.13 1.17 1.19\n",
      " 1.21 1.24 1.25 1.29 1.33 1.34 1.35 1.36 1.39 1.41 1.43 1.45 1.47 1.48\n",
      " 1.5  1.51 1.52 1.53 1.57 1.59 1.6  1.61 1.63 1.64 1.65 1.66 1.67 1.68\n",
      " 1.7  1.71 1.72 1.73 1.75 1.76 1.77 1.78 1.8  1.81 1.83 1.86 1.87 1.88\n",
      " 1.89 1.9  1.92 1.95 1.97 1.99 2.02 2.05 2.06 2.08 2.12 2.13 2.15 2.16\n",
      " 2.31 2.36 2.39 2.4  2.43 2.45 2.46 2.51 2.55 2.56 2.58 2.59 2.67 2.68\n",
      " 2.76 2.81 2.83 2.89 2.96 2.99 3.03 3.1  3.12 3.17 3.24 3.26 3.27 3.3\n",
      " 3.37 3.43 3.45 3.55 3.57 3.59 3.7  3.74 3.8  3.83 3.84 3.86 3.87 3.88\n",
      " 3.9  3.91 3.98 3.99 4.04 4.1  4.12 4.28 4.3  4.31 4.36 4.43 4.6  4.61\n",
      " 4.72 4.95 5.04 5.19 5.51 5.65 5.8 ] \n",
      "\n",
      "Ash \n",
      " [1.36 1.7  1.71 1.75 1.82 1.88 1.9  1.92 1.94 1.95 1.98 1.99 2.   2.02\n",
      " 2.04 2.1  2.12 2.13 2.14 2.15 2.16 2.17 2.19 2.2  2.21 2.22 2.23 2.24\n",
      " 2.25 2.26 2.27 2.28 2.29 2.3  2.31 2.32 2.35 2.36 2.37 2.38 2.39 2.4\n",
      " 2.41 2.42 2.43 2.44 2.45 2.46 2.48 2.5  2.51 2.52 2.53 2.54 2.55 2.56\n",
      " 2.58 2.59 2.6  2.61 2.62 2.64 2.65 2.67 2.68 2.69 2.7  2.72 2.73 2.74\n",
      " 2.75 2.78 2.8  2.84 2.86 2.87 2.92 3.22 3.23] \n",
      "\n",
      "Alcalinity \n",
      " [10.6 11.2 11.4 12.  12.4 13.2 14.  14.6 14.8 15.  15.2 15.5 15.6 16.\n",
      " 16.1 16.2 16.3 16.4 16.5 16.6 16.7 16.8 17.  17.1 17.2 17.4 17.5 17.6\n",
      " 17.8 18.  18.1 18.5 18.6 18.8 18.9 19.  19.1 19.4 19.5 19.6 20.  20.4\n",
      " 20.5 20.7 20.8 21.  21.5 21.6 22.  22.5 22.8 23.  23.5 23.6 24.  24.5\n",
      " 25.  25.5 26.  26.5 27.  28.5 30. ] \n",
      "\n",
      "Magnesium \n",
      " [ 70  78  80  81  82  84  85  86  87  88  89  90  91  92  93  94  95  96\n",
      "  97  98  99 100 101 102 103 104 105 106 107 108 110 111 112 113 115 116\n",
      " 117 118 119 120 121 122 123 124 126 127 128 132 134 136 139 151 162] \n",
      "\n",
      "TotPhenols \n",
      " [0.98 1.1  1.15 1.25 1.28 1.3  1.35 1.38 1.39 1.4  1.41 1.45 1.48 1.5\n",
      " 1.51 1.54 1.55 1.59 1.6  1.61 1.62 1.63 1.65 1.68 1.7  1.72 1.74 1.75\n",
      " 1.78 1.79 1.8  1.83 1.85 1.88 1.89 1.9  1.92 1.93 1.95 1.98 2.   2.02\n",
      " 2.05 2.1  2.11 2.13 2.2  2.22 2.23 2.3  2.32 2.35 2.36 2.4  2.41 2.42\n",
      " 2.45 2.46 2.48 2.5  2.53 2.55 2.56 2.6  2.61 2.62 2.63 2.64 2.65 2.7\n",
      " 2.72 2.74 2.75 2.8  2.83 2.85 2.86 2.88 2.9  2.95 2.96 2.98 3.   3.02\n",
      " 3.1  3.15 3.18 3.2  3.25 3.27 3.3  3.38 3.4  3.5  3.52 3.85 3.88] \n",
      "\n",
      "Flavanoids \n",
      " [0.34 0.47 0.48 0.49 0.5  0.51 0.52 0.55 0.56 0.57 0.58 0.6  0.61 0.63\n",
      " 0.65 0.66 0.68 0.69 0.7  0.75 0.76 0.78 0.8  0.83 0.84 0.92 0.96 0.99\n",
      " 1.02 1.09 1.1  1.2  1.22 1.25 1.28 1.3  1.31 1.32 1.36 1.39 1.41 1.46\n",
      " 1.5  1.57 1.58 1.59 1.6  1.61 1.64 1.69 1.75 1.76 1.79 1.84 1.85 1.92\n",
      " 1.94 2.   2.01 2.03 2.04 2.09 2.11 2.13 2.14 2.17 2.19 2.21 2.24 2.25\n",
      " 2.26 2.27 2.29 2.33 2.37 2.41 2.43 2.45 2.5  2.51 2.52 2.53 2.55 2.58\n",
      " 2.61 2.63 2.64 2.65 2.68 2.69 2.74 2.76 2.78 2.79 2.86 2.88 2.89 2.9\n",
      " 2.91 2.92 2.94 2.97 2.98 2.99 3.   3.03 3.04 3.06 3.1  3.14 3.15 3.17\n",
      " 3.18 3.19 3.23 3.24 3.25 3.27 3.29 3.32 3.39 3.4  3.49 3.54 3.56 3.64\n",
      " 3.67 3.69 3.74 3.75 3.93 5.08] \n",
      "\n",
      "NonflavPhenols \n",
      " [0.13 0.14 0.17 0.19 0.2  0.21 0.22 0.24 0.25 0.26 0.27 0.28 0.29 0.3\n",
      " 0.31 0.32 0.33 0.34 0.35 0.37 0.39 0.4  0.41 0.42 0.43 0.44 0.45 0.47\n",
      " 0.48 0.5  0.52 0.53 0.55 0.56 0.58 0.6  0.61 0.63 0.66] \n",
      "\n",
      "Proanth \n",
      " [0.41 0.42 0.55 0.62 0.64 0.68 0.73 0.75 0.8  0.81 0.83 0.84 0.86 0.88\n",
      " 0.94 0.95 0.96 0.97 1.02 1.03 1.04 1.05 1.06 1.1  1.11 1.14 1.15 1.22\n",
      " 1.24 1.25 1.26 1.28 1.3  1.31 1.34 1.35 1.36 1.37 1.38 1.4  1.41 1.42\n",
      " 1.43 1.44 1.45 1.46 1.48 1.53 1.54 1.55 1.56 1.57 1.61 1.62 1.63 1.64\n",
      " 1.65 1.66 1.68 1.69 1.7  1.71 1.72 1.76 1.77 1.81 1.82 1.83 1.85 1.86\n",
      " 1.87 1.9  1.92 1.95 1.96 1.97 1.98 1.99 2.01 2.03 2.04 2.08 2.1  2.14\n",
      " 2.18 2.19 2.28 2.29 2.34 2.35 2.38 2.45 2.49 2.5  2.7  2.76 2.81 2.91\n",
      " 2.96 3.28 3.58] \n",
      "\n",
      "ColIntensity \n",
      " [ 1.28      1.74      1.9       1.95      2.        2.06      2.08\n",
      "  2.12      2.15      2.2       2.3       2.4       2.45      2.5\n",
      "  2.57      2.6       2.62      2.65      2.7       2.76      2.8\n",
      "  2.85      2.9       2.94      2.95      3.        3.05      3.08\n",
      "  3.17      3.21      3.25      3.27      3.3       3.35      3.38\n",
      "  3.4       3.52      3.58      3.6       3.7       3.74      3.8\n",
      "  3.84      3.85      3.9       3.93      3.94      3.95      4.\n",
      "  4.1       4.2       4.25      4.28      4.32      4.35      4.36\n",
      "  4.38      4.4       4.45      4.5       4.6       4.68      4.7\n",
      "  4.8       4.9       4.92      5.        5.04      5.05      5.1\n",
      "  5.2       5.24      5.25      5.28      5.3       5.4       5.43\n",
      "  5.45      5.5       5.58      5.6       5.64      5.65      5.68\n",
      "  5.7       5.75      5.85      5.88      6.        6.1       6.13\n",
      "  6.2       6.25      6.3       6.38      6.6       6.62      6.75\n",
      "  6.8       6.9       7.05      7.1       7.2       7.22      7.3\n",
      "  7.5       7.6       7.65      7.7       7.8       7.9       8.21\n",
      "  8.42      8.5       8.6       8.66      8.7       8.9       9.01\n",
      "  9.2       9.3       9.4       9.58      9.7       9.899999 10.2\n",
      " 10.26     10.52     10.68     10.8      11.75     13.      ] \n",
      "\n",
      "Hue \n",
      " [0.48  0.54  0.55  0.56  0.57  0.58  0.59  0.6   0.61  0.62  0.64  0.65\n",
      " 0.66  0.67  0.68  0.69  0.7   0.72  0.73  0.74  0.75  0.76  0.77  0.78\n",
      " 0.79  0.8   0.81  0.82  0.84  0.85  0.86  0.87  0.88  0.89  0.9   0.906\n",
      " 0.91  0.92  0.93  0.94  0.95  0.96  0.97  0.98  0.99  1.    1.01  1.02\n",
      " 1.03  1.04  1.05  1.06  1.07  1.08  1.09  1.1   1.11  1.12  1.13  1.15\n",
      " 1.16  1.17  1.18  1.19  1.2   1.22  1.23  1.24  1.25  1.27  1.28  1.31\n",
      " 1.33  1.36  1.38  1.42  1.45  1.71 ] \n",
      "\n",
      "OD \n",
      " [1.27 1.29 1.3  1.33 1.36 1.42 1.47 1.48 1.51 1.55 1.56 1.58 1.59 1.6\n",
      " 1.62 1.63 1.64 1.67 1.68 1.69 1.71 1.73 1.74 1.75 1.78 1.8  1.82 1.83\n",
      " 1.86 1.92 1.93 1.96 2.   2.01 2.05 2.06 2.11 2.12 2.14 2.15 2.23 2.26\n",
      " 2.27 2.3  2.31 2.42 2.44 2.46 2.47 2.48 2.5  2.51 2.52 2.57 2.63 2.65\n",
      " 2.69 2.71 2.72 2.73 2.74 2.75 2.77 2.78 2.81 2.82 2.83 2.84 2.85 2.87\n",
      " 2.88 2.9  2.91 2.93 2.96 3.   3.02 3.03 3.05 3.07 3.08 3.1  3.12 3.13\n",
      " 3.14 3.16 3.17 3.18 3.19 3.2  3.21 3.22 3.26 3.28 3.3  3.31 3.33 3.35\n",
      " 3.36 3.37 3.38 3.39 3.4  3.44 3.45 3.47 3.48 3.5  3.52 3.53 3.55 3.56\n",
      " 3.57 3.58 3.59 3.63 3.64 3.69 3.71 3.82 3.92 4.  ] \n",
      "\n",
      "Proline \n",
      " [ 278  290  312  315  325  342  345  352  355  365  372  378  380  385\n",
      "  392  406  407  410  415  420  425  428  434  438  450  463  465  466\n",
      "  470  472  480  488  495  500  502  510  515  520  530  550  560  562\n",
      "  564  570  580  590  600  607  615  620  625  630  640  650  660  672\n",
      "  675  678  680  685  695  710  714  718  720  725  735  740  750  760\n",
      "  770  780  795  830  835  840  845  855  870  880  885  886  915  920\n",
      "  937  970  985  990 1015 1020 1035 1045 1050 1060 1065 1080 1095 1105\n",
      " 1120 1130 1150 1185 1190 1195 1235 1260 1265 1270 1280 1285 1290 1295\n",
      " 1310 1320 1375 1450 1480 1510 1515 1547 1680] \n",
      "\n"
     ]
    }
   ],
   "source": [
    "def print_unique(df):\n",
    "    for col in df.columns:\n",
    "        print(col, '\\n', df[col].sort_values().unique(), '\\n')\n",
    "        \n",
    "print_unique(wine)"
   ]
  },
  {
   "cell_type": "code",
   "execution_count": 4,
   "metadata": {},
   "outputs": [],
   "source": [
    "def get_snapshot(df):\n",
    "    n_missing = pd.DataFrame(df.isnull().sum(), columns = ['n_missing'])\n",
    "    pct_missing = pd.DataFrame(round(df.isnull().sum() / df.shape[0], 2), columns = ['pct_missing'])\n",
    "    dtype = pd.DataFrame(df.dtypes, columns = ['dtype'])\n",
    "    n_unique = []\n",
    "    for col in df.columns:\n",
    "        n_unique.append(df[col].nunique())    \n",
    "    return pd.DataFrame(n_unique, index = df.columns, columns = ['n_unique']).join(dtype).join(n_missing).join(pct_missing)"
   ]
  },
  {
   "cell_type": "code",
   "execution_count": 5,
   "metadata": {
    "scrolled": false
   },
   "outputs": [
    {
     "data": {
      "text/html": [
       "<div>\n",
       "<style scoped>\n",
       "    .dataframe tbody tr th:only-of-type {\n",
       "        vertical-align: middle;\n",
       "    }\n",
       "\n",
       "    .dataframe tbody tr th {\n",
       "        vertical-align: top;\n",
       "    }\n",
       "\n",
       "    .dataframe thead th {\n",
       "        text-align: right;\n",
       "    }\n",
       "</style>\n",
       "<table border=\"1\" class=\"dataframe\">\n",
       "  <thead>\n",
       "    <tr style=\"text-align: right;\">\n",
       "      <th></th>\n",
       "      <th>n_unique</th>\n",
       "      <th>dtype</th>\n",
       "      <th>n_missing</th>\n",
       "      <th>pct_missing</th>\n",
       "    </tr>\n",
       "  </thead>\n",
       "  <tbody>\n",
       "    <tr>\n",
       "      <th>Class</th>\n",
       "      <td>3</td>\n",
       "      <td>int64</td>\n",
       "      <td>0</td>\n",
       "      <td>0.0</td>\n",
       "    </tr>\n",
       "    <tr>\n",
       "      <th>Alcohol</th>\n",
       "      <td>126</td>\n",
       "      <td>float64</td>\n",
       "      <td>0</td>\n",
       "      <td>0.0</td>\n",
       "    </tr>\n",
       "    <tr>\n",
       "      <th>Acid</th>\n",
       "      <td>133</td>\n",
       "      <td>float64</td>\n",
       "      <td>0</td>\n",
       "      <td>0.0</td>\n",
       "    </tr>\n",
       "    <tr>\n",
       "      <th>Ash</th>\n",
       "      <td>79</td>\n",
       "      <td>float64</td>\n",
       "      <td>0</td>\n",
       "      <td>0.0</td>\n",
       "    </tr>\n",
       "    <tr>\n",
       "      <th>Alcalinity</th>\n",
       "      <td>63</td>\n",
       "      <td>float64</td>\n",
       "      <td>0</td>\n",
       "      <td>0.0</td>\n",
       "    </tr>\n",
       "    <tr>\n",
       "      <th>Magnesium</th>\n",
       "      <td>53</td>\n",
       "      <td>int64</td>\n",
       "      <td>0</td>\n",
       "      <td>0.0</td>\n",
       "    </tr>\n",
       "    <tr>\n",
       "      <th>TotPhenols</th>\n",
       "      <td>97</td>\n",
       "      <td>float64</td>\n",
       "      <td>0</td>\n",
       "      <td>0.0</td>\n",
       "    </tr>\n",
       "    <tr>\n",
       "      <th>Flavanoids</th>\n",
       "      <td>132</td>\n",
       "      <td>float64</td>\n",
       "      <td>0</td>\n",
       "      <td>0.0</td>\n",
       "    </tr>\n",
       "    <tr>\n",
       "      <th>NonflavPhenols</th>\n",
       "      <td>39</td>\n",
       "      <td>float64</td>\n",
       "      <td>0</td>\n",
       "      <td>0.0</td>\n",
       "    </tr>\n",
       "    <tr>\n",
       "      <th>Proanth</th>\n",
       "      <td>101</td>\n",
       "      <td>float64</td>\n",
       "      <td>0</td>\n",
       "      <td>0.0</td>\n",
       "    </tr>\n",
       "    <tr>\n",
       "      <th>ColIntensity</th>\n",
       "      <td>132</td>\n",
       "      <td>float64</td>\n",
       "      <td>0</td>\n",
       "      <td>0.0</td>\n",
       "    </tr>\n",
       "    <tr>\n",
       "      <th>Hue</th>\n",
       "      <td>78</td>\n",
       "      <td>float64</td>\n",
       "      <td>0</td>\n",
       "      <td>0.0</td>\n",
       "    </tr>\n",
       "    <tr>\n",
       "      <th>OD</th>\n",
       "      <td>122</td>\n",
       "      <td>float64</td>\n",
       "      <td>0</td>\n",
       "      <td>0.0</td>\n",
       "    </tr>\n",
       "    <tr>\n",
       "      <th>Proline</th>\n",
       "      <td>121</td>\n",
       "      <td>int64</td>\n",
       "      <td>0</td>\n",
       "      <td>0.0</td>\n",
       "    </tr>\n",
       "  </tbody>\n",
       "</table>\n",
       "</div>"
      ],
      "text/plain": [
       "                n_unique    dtype  n_missing  pct_missing\n",
       "Class                  3    int64          0          0.0\n",
       "Alcohol              126  float64          0          0.0\n",
       "Acid                 133  float64          0          0.0\n",
       "Ash                   79  float64          0          0.0\n",
       "Alcalinity            63  float64          0          0.0\n",
       "Magnesium             53    int64          0          0.0\n",
       "TotPhenols            97  float64          0          0.0\n",
       "Flavanoids           132  float64          0          0.0\n",
       "NonflavPhenols        39  float64          0          0.0\n",
       "Proanth              101  float64          0          0.0\n",
       "ColIntensity         132  float64          0          0.0\n",
       "Hue                   78  float64          0          0.0\n",
       "OD                   122  float64          0          0.0\n",
       "Proline              121    int64          0          0.0"
      ]
     },
     "execution_count": 5,
     "metadata": {},
     "output_type": "execute_result"
    }
   ],
   "source": [
    "snapshot = get_snapshot(wine)\n",
    "snapshot"
   ]
  },
  {
   "cell_type": "code",
   "execution_count": 6,
   "metadata": {
    "scrolled": true
   },
   "outputs": [
    {
     "data": {
      "text/plain": [
       "array([  3,  39,  53,  63,  78,  79,  97, 101, 121, 122, 126, 132, 133],\n",
       "      dtype=int64)"
      ]
     },
     "execution_count": 6,
     "metadata": {},
     "output_type": "execute_result"
    }
   ],
   "source": [
    "np.sort(snapshot['n_unique'].unique())"
   ]
  },
  {
   "cell_type": "code",
   "execution_count": 7,
   "metadata": {},
   "outputs": [],
   "source": [
    "features = wine.columns.drop('Class')"
   ]
  },
  {
   "cell_type": "code",
   "execution_count": 8,
   "metadata": {},
   "outputs": [],
   "source": [
    "def plot_single_categorical(df, col):\n",
    "    plt.figure(figsize = (4, 4))\n",
    "    df[col].value_counts().plot.bar(color = mcolors.TABLEAU_COLORS)\n",
    "    sns.despine(top = True)\n",
    "    \n",
    "    n_level = df[col].nunique()\n",
    "    for x_coor in range(n_level):\n",
    "        plt.annotate(df[col].value_counts().iloc[x_coor], \n",
    "                     xy = (x_coor, \n",
    "                           df[col].value_counts().iloc[x_coor] + df[col].value_counts().iloc[0]/50))\n",
    "    \n",
    "    plt.xticks(rotation = 0)\n",
    "    plt.grid()\n",
    "    plt.title(col)\n",
    "    plt.show()"
   ]
  },
  {
   "cell_type": "code",
   "execution_count": 9,
   "metadata": {
    "scrolled": true
   },
   "outputs": [
    {
     "data": {
      "image/png": "[encoded data removed]",
      "text/plain": [
       "<Figure size 288x288 with 1 Axes>"
      ]
     },
     "metadata": {
      "needs_background": "light"
     },
     "output_type": "display_data"
    }
   ],
   "source": [
    "plot_single_categorical(wine, 'Class')"
   ]
  },
  {
   "cell_type": "code",
   "execution_count": 12,
   "metadata": {},
   "outputs": [],
   "source": [
    "wine_dummies = pd.get_dummies(wine, columns = ['Class'], dtype = int).join(wine['Class'])"
   ]
  },
  {
   "cell_type": "code",
   "execution_count": 13,
   "metadata": {},
   "outputs": [
    {
     "data": {
      "image/png": "[encoded data removed]",
      "text/plain": [
       "<Figure size 288x288 with 1 Axes>"
      ]
     },
     "metadata": {
      "needs_background": "light"
     },
     "output_type": "display_data"
    }
   ],
   "source": [
    "plot_single_categorical(wine_dummies, 'Class_2')"
   ]
  },
  {
   "cell_type": "code",
   "execution_count": 14,
   "metadata": {},
   "outputs": [],
   "source": [
    "def feat_significance(X, y, n_feat_data_type, features):\n",
    "    mi_df = pd.DataFrame(mutual_info_classif(X, y, random_state = 42), index = X.columns, columns = ['score'])\n",
    "    mi_df = mi_df.sort_values(by = 'score', ascending = False)\n",
    "    \n",
    "    def color_cell(s):    \n",
    "        background = []\n",
    "        for i in range(len(s.index)):\n",
    "            if s.index[i] in features:\n",
    "                background.append('background-color: yellow')\n",
    "            else:\n",
    "                background.append('')\n",
    "        return background\n",
    "    \n",
    "    if n_feat_data_type == 1:\n",
    "        return mi_df\n",
    "    else:\n",
    "        return mi_df.style.apply(color_cell, axis = 0)"
   ]
  },
  {
   "cell_type": "code",
   "execution_count": 17,
   "metadata": {
    "scrolled": true
   },
   "outputs": [
    {
     "data": {
      "text/html": [
       "<div>\n",
       "<style scoped>\n",
       "    .dataframe tbody tr th:only-of-type {\n",
       "        vertical-align: middle;\n",
       "    }\n",
       "\n",
       "    .dataframe tbody tr th {\n",
       "        vertical-align: top;\n",
       "    }\n",
       "\n",
       "    .dataframe thead th {\n",
       "        text-align: right;\n",
       "    }\n",
       "</style>\n",
       "<table border=\"1\" class=\"dataframe\">\n",
       "  <thead>\n",
       "    <tr style=\"text-align: right;\">\n",
       "      <th></th>\n",
       "      <th>score</th>\n",
       "    </tr>\n",
       "  </thead>\n",
       "  <tbody>\n",
       "    <tr>\n",
       "      <th>ColIntensity</th>\n",
       "      <td>0.467287</td>\n",
       "    </tr>\n",
       "    <tr>\n",
       "      <th>Alcohol</th>\n",
       "      <td>0.382546</td>\n",
       "    </tr>\n",
       "    <tr>\n",
       "      <th>Proline</th>\n",
       "      <td>0.264228</td>\n",
       "    </tr>\n",
       "    <tr>\n",
       "      <th>Flavanoids</th>\n",
       "      <td>0.251295</td>\n",
       "    </tr>\n",
       "    <tr>\n",
       "      <th>Magnesium</th>\n",
       "      <td>0.148977</td>\n",
       "    </tr>\n",
       "    <tr>\n",
       "      <th>Hue</th>\n",
       "      <td>0.125271</td>\n",
       "    </tr>\n",
       "    <tr>\n",
       "      <th>OD</th>\n",
       "      <td>0.108222</td>\n",
       "    </tr>\n",
       "    <tr>\n",
       "      <th>Acid</th>\n",
       "      <td>0.091624</td>\n",
       "    </tr>\n",
       "    <tr>\n",
       "      <th>TotPhenols</th>\n",
       "      <td>0.062771</td>\n",
       "    </tr>\n",
       "    <tr>\n",
       "      <th>Proanth</th>\n",
       "      <td>0.061406</td>\n",
       "    </tr>\n",
       "    <tr>\n",
       "      <th>Ash</th>\n",
       "      <td>0.054534</td>\n",
       "    </tr>\n",
       "    <tr>\n",
       "      <th>Alcalinity</th>\n",
       "      <td>0.007526</td>\n",
       "    </tr>\n",
       "    <tr>\n",
       "      <th>NonflavPhenols</th>\n",
       "      <td>0.000000</td>\n",
       "    </tr>\n",
       "  </tbody>\n",
       "</table>\n",
       "</div>"
      ],
      "text/plain": [
       "                   score\n",
       "ColIntensity    0.467287\n",
       "Alcohol         0.382546\n",
       "Proline         0.264228\n",
       "Flavanoids      0.251295\n",
       "Magnesium       0.148977\n",
       "Hue             0.125271\n",
       "OD              0.108222\n",
       "Acid            0.091624\n",
       "TotPhenols      0.062771\n",
       "Proanth         0.061406\n",
       "Ash             0.054534\n",
       "Alcalinity      0.007526\n",
       "NonflavPhenols  0.000000"
      ]
     },
     "execution_count": 17,
     "metadata": {},
     "output_type": "execute_result"
    }
   ],
   "source": [
    "feat_score = feat_significance(wine_dummies[features], wine_dummies['Class_2'], 1, '')\n",
    "feat_score"
   ]
  },
  {
   "cell_type": "code",
   "execution_count": 18,
   "metadata": {},
   "outputs": [],
   "source": [
    "def get_mean_std(df):\n",
    "    mean_col = pd.DataFrame(df.mean(), columns = ['mean'])\n",
    "    std_col = pd.DataFrame(df.std(), columns = ['std'])\n",
    "    mean_plus_std = mean_col.join(std_col)\n",
    "    return mean_plus_std"
   ]
  },
  {
   "cell_type": "code",
   "execution_count": 19,
   "metadata": {},
   "outputs": [
    {
     "data": {
      "text/html": [
       "<div>\n",
       "<style scoped>\n",
       "    .dataframe tbody tr th:only-of-type {\n",
       "        vertical-align: middle;\n",
       "    }\n",
       "\n",
       "    .dataframe tbody tr th {\n",
       "        vertical-align: top;\n",
       "    }\n",
       "\n",
       "    .dataframe thead th {\n",
       "        text-align: right;\n",
       "    }\n",
       "</style>\n",
       "<table border=\"1\" class=\"dataframe\">\n",
       "  <thead>\n",
       "    <tr style=\"text-align: right;\">\n",
       "      <th></th>\n",
       "      <th>mean</th>\n",
       "      <th>std</th>\n",
       "    </tr>\n",
       "  </thead>\n",
       "  <tbody>\n",
       "    <tr>\n",
       "      <th>Alcohol</th>\n",
       "      <td>13.000618</td>\n",
       "      <td>0.811827</td>\n",
       "    </tr>\n",
       "    <tr>\n",
       "      <th>Acid</th>\n",
       "      <td>2.336348</td>\n",
       "      <td>1.117146</td>\n",
       "    </tr>\n",
       "    <tr>\n",
       "      <th>Ash</th>\n",
       "      <td>2.366517</td>\n",
       "      <td>0.274344</td>\n",
       "    </tr>\n",
       "    <tr>\n",
       "      <th>Alcalinity</th>\n",
       "      <td>19.494944</td>\n",
       "      <td>3.339564</td>\n",
       "    </tr>\n",
       "    <tr>\n",
       "      <th>Magnesium</th>\n",
       "      <td>99.741573</td>\n",
       "      <td>14.282484</td>\n",
       "    </tr>\n",
       "    <tr>\n",
       "      <th>TotPhenols</th>\n",
       "      <td>2.295112</td>\n",
       "      <td>0.625851</td>\n",
       "    </tr>\n",
       "    <tr>\n",
       "      <th>Flavanoids</th>\n",
       "      <td>2.029270</td>\n",
       "      <td>0.998859</td>\n",
       "    </tr>\n",
       "    <tr>\n",
       "      <th>NonflavPhenols</th>\n",
       "      <td>0.361854</td>\n",
       "      <td>0.124453</td>\n",
       "    </tr>\n",
       "    <tr>\n",
       "      <th>Proanth</th>\n",
       "      <td>1.590899</td>\n",
       "      <td>0.572359</td>\n",
       "    </tr>\n",
       "    <tr>\n",
       "      <th>ColIntensity</th>\n",
       "      <td>5.058090</td>\n",
       "      <td>2.318286</td>\n",
       "    </tr>\n",
       "    <tr>\n",
       "      <th>Hue</th>\n",
       "      <td>0.957449</td>\n",
       "      <td>0.228572</td>\n",
       "    </tr>\n",
       "    <tr>\n",
       "      <th>OD</th>\n",
       "      <td>2.611685</td>\n",
       "      <td>0.709990</td>\n",
       "    </tr>\n",
       "    <tr>\n",
       "      <th>Proline</th>\n",
       "      <td>746.893258</td>\n",
       "      <td>314.907474</td>\n",
       "    </tr>\n",
       "  </tbody>\n",
       "</table>\n",
       "</div>"
      ],
      "text/plain": [
       "                      mean         std\n",
       "Alcohol          13.000618    0.811827\n",
       "Acid              2.336348    1.117146\n",
       "Ash               2.366517    0.274344\n",
       "Alcalinity       19.494944    3.339564\n",
       "Magnesium        99.741573   14.282484\n",
       "TotPhenols        2.295112    0.625851\n",
       "Flavanoids        2.029270    0.998859\n",
       "NonflavPhenols    0.361854    0.124453\n",
       "Proanth           1.590899    0.572359\n",
       "ColIntensity      5.058090    2.318286\n",
       "Hue               0.957449    0.228572\n",
       "OD                2.611685    0.709990\n",
       "Proline         746.893258  314.907474"
      ]
     },
     "execution_count": 19,
     "metadata": {},
     "output_type": "execute_result"
    }
   ],
   "source": [
    "get_mean_std(wine_dummies[features])"
   ]
  },
  {
   "cell_type": "code",
   "execution_count": 20,
   "metadata": {},
   "outputs": [],
   "source": [
    "X_scaled = pd.DataFrame(scale(wine_dummies[features]), columns = features)\n",
    "y = wine_dummies['Class_2']"
   ]
  },
  {
   "cell_type": "code",
   "execution_count": 21,
   "metadata": {},
   "outputs": [],
   "source": [
    "lr = LogisticRegression(random_state = 42)\n",
    "knn = KNeighborsClassifier()\n",
    "svc = SVC(random_state = 42)\n",
    "tree = DecisionTreeClassifier(max_features = 'auto', random_state = 42)\n",
    "alg_dict = {lr: 'lr', svc: 'svc', knn: 'knn', tree: 'tree'}"
   ]
  },
  {
   "cell_type": "code",
   "execution_count": 22,
   "metadata": {},
   "outputs": [],
   "source": [
    "def num_feat_perform(algorithm, feat_ordered, X_ordered, y, metric):\n",
    "    scores = []\n",
    "    for i in range(1, len(feat_ordered)+1):\n",
    "        pred_data = X_ordered.iloc[:, 0:i]\n",
    "        score = mean(cross_val_score(algorithm, pred_data, y, scoring = metric, cv = 5))\n",
    "        scores.append(score)\n",
    "\n",
    "    n_features = len(feat_ordered)\n",
    "    plt.plot(np.arange(n_features), scores, marker = 'x')\n",
    "    plt.xticks(np.arange(n_features), np.arange(1, n_features + 1))\n",
    "    for i in range(n_features):\n",
    "        plt.text(i, scores[i], s = round(scores[i], 2))\n",
    "    plt.grid()\n",
    "    plt.xlabel('no. of features')\n",
    "    plt.ylabel('score')\n",
    "    \n",
    "def num_feat_multi_alg(alg_dict, feat_ordered, X_ordered, y, metric):\n",
    "    n_algorithm = len(alg_dict)\n",
    "    algorithms = list(alg_dict.keys())\n",
    "    alg_names = list(alg_dict.values())\n",
    "    if n_algorithm <= 2:\n",
    "        nrows = 1\n",
    "        ncols = n_algorithm\n",
    "        fig = plt.figure(figsize = (ncols * 6, 4))\n",
    "    else:\n",
    "        nrows = math.ceil(n_algorithm / 2)\n",
    "        ncols = 2\n",
    "        fig = plt.figure(figsize = (12, nrows * 4))\n",
    "\n",
    "    for n in range(n_algorithm):\n",
    "        ax = fig.add_subplot(nrows, ncols, n + 1)\n",
    "        ax = num_feat_perform(algorithms[n], feat_ordered, X_ordered, y, metric)\n",
    "        plt.title(f\"'{alg_names[n]}' performance by '{metric}'\")\n",
    "        \n",
    "    plt.tight_layout()\n",
    "    plt.show()"
   ]
  },
  {
   "cell_type": "code",
   "execution_count": 23,
   "metadata": {
    "scrolled": false
   },
   "outputs": [
    {
     "data": {
      "image/png": "[encoded data removed]",
      "text/plain": [
       "<Figure size 864x576 with 4 Axes>"
      ]
     },
     "metadata": {
      "needs_background": "light"
     },
     "output_type": "display_data"
    }
   ],
   "source": [
    "num_feat_multi_alg(alg_dict, feat_score.index, X_scaled[feat_score.index], y, 'f1')"
   ]
  },
  {
   "cell_type": "code",
   "execution_count": 28,
   "metadata": {},
   "outputs": [
    {
     "data": {
      "text/plain": [
       "Index(['ColIntensity', 'Alcohol', 'Proline', 'Flavanoids', 'Magnesium', 'Hue'], dtype='object')"
      ]
     },
     "execution_count": 28,
     "metadata": {},
     "output_type": "execute_result"
    }
   ],
   "source": [
    "feat_svc = feat_score.index[0:6]\n",
    "feat_svc"
   ]
  },
  {
   "cell_type": "code",
   "execution_count": 25,
   "metadata": {},
   "outputs": [],
   "source": [
    "def plot_learning_curve(train_scores, test_scores, train_sizes):\n",
    "    train_scores = pd.DataFrame(train_scores, index = train_sizes, columns = ['split1', 'split2', 'split3', 'split4', 'split5'])\n",
    "    train_scores = train_scores.join(pd.Series(train_scores.mean(axis = 1), name = 'mean'))\n",
    "\n",
    "    test_scores = pd.DataFrame(test_scores, index = train_sizes, columns = ['split1', 'split2', 'split3', 'split4', 'split5'])\n",
    "    test_scores = test_scores.join(pd.Series(test_scores.mean(axis = 1), name = 'mean'))\n",
    "\n",
    "    plt.plot(train_scores['mean'], label = 'train_scores')\n",
    "    plt.plot(test_scores['mean'], label = 'test_scores')\n",
    "    plt.legend()\n",
    "    plt.grid()\n",
    "    plt.xlabel('no. of training samples')\n",
    "    \n",
    "def two_metric_graph(algorithm, X, y):\n",
    "    train_sizes = np.linspace(start = 20, stop = X.shape[0] * 0.8, num = 6, dtype = int)\n",
    "    fig = plt.figure(figsize = (10, 4))\n",
    "\n",
    "    for i, metric in enumerate(['f1', 'balanced_accuracy']):\n",
    "        train_sizes_abs, train_scores, test_scores = learning_curve(algorithm, X, y, train_sizes = train_sizes, \n",
    "                                                                    scoring = metric, cv = 5, shuffle = True, \n",
    "                                                                    random_state = 42)\n",
    "        ax = fig.add_subplot(1, 2, i + 1)\n",
    "        ax = plot_learning_curve(train_scores, test_scores, train_sizes)\n",
    "        plt.title(f\"'performance by '{metric}'\")\n",
    "\n",
    "    plt.tight_layout()\n",
    "    plt.show()"
   ]
  },
  {
   "cell_type": "code",
   "execution_count": 30,
   "metadata": {
    "scrolled": true
   },
   "outputs": [
    {
     "data": {
      "image/png": "[encoded data removed]",
      "text/plain": [
       "<Figure size 720x288 with 2 Axes>"
      ]
     },
     "metadata": {
      "needs_background": "light"
     },
     "output_type": "display_data"
    }
   ],
   "source": [
    "two_metric_graph(svc, X_scaled[feat_svc], y)"
   ]
  },
  {
   "cell_type": "code",
   "execution_count": 31,
   "metadata": {},
   "outputs": [
    {
     "data": {
      "text/plain": [
       "['svc.joblib']"
      ]
     },
     "execution_count": 31,
     "metadata": {},
     "output_type": "execute_result"
    }
   ],
   "source": [
    "svc.fit(X_scaled[feat_svc], y)\n",
    "joblib.dump(svc, 'svc.joblib')"
   ]
  }
 ],
 "metadata": {
  "kernelspec": {
   "display_name": "Python 3",
   "language": "python",
   "name": "python3"
  },
  "language_info": {
   "codemirror_mode": {
    "name": "ipython",
    "version": 3
   },
   "file_extension": ".py",
   "mimetype": "text/x-python",
   "name": "python",
   "nbconvert_exporter": "python",
   "pygments_lexer": "ipython3",
   "version": "3.7.7"
  }
 },
 "nbformat": 4,
 "nbformat_minor": 4
}
